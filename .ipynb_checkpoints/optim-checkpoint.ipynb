{
 "cells": [
  {
   "cell_type": "code",
   "execution_count": 1,
   "id": "97a521ab-7505-4e9c-b546-b49d593fbbcd",
   "metadata": {},
   "outputs": [
    {
     "name": "stdout",
     "output_type": "stream",
     "text": [
      "Requirement already satisfied: pulp in c:\\users\\kouic\\miniconda3\\envs\\avilen\\lib\\site-packages (3.3.0)\n"
     ]
    }
   ],
   "source": [
    "!pip install pulp"
   ]
  },
  {
   "cell_type": "code",
   "execution_count": 4,
   "id": "e48bf63a-0e03-485a-9ad5-546cd8503d61",
   "metadata": {},
   "outputs": [
    {
     "name": "stdout",
     "output_type": "stream",
     "text": [
      "Requirement already satisfied: pycddlib in c:\\users\\kouic\\miniconda3\\envs\\avilen\\lib\\site-packages (3.0.2)\n",
      "Note: you may need to restart the kernel to use updated packages.\n"
     ]
    }
   ],
   "source": [
    "%pip install pycddlib"
   ]
  },
  {
   "cell_type": "code",
   "execution_count": 5,
   "id": "2bc76b3e-70a2-4e3f-9954-6b62ca0c7047",
   "metadata": {},
   "outputs": [
    {
     "name": "stdout",
     "output_type": "stream",
     "text": [
      "Requirement already satisfied: vpython in c:\\users\\kouic\\miniconda3\\envs\\avilen\\lib\\site-packages (7.6.5)\n",
      "Requirement already satisfied: jupyter in c:\\users\\kouic\\miniconda3\\envs\\avilen\\lib\\site-packages (from vpython) (1.1.1)\n",
      "Requirement already satisfied: jupyter-server-proxy in c:\\users\\kouic\\miniconda3\\envs\\avilen\\lib\\site-packages (from vpython) (4.4.0)\n",
      "Requirement already satisfied: jupyterlab-vpython>=3.1.8 in c:\\users\\kouic\\miniconda3\\envs\\avilen\\lib\\site-packages (from vpython) (3.1.8)\n",
      "Requirement already satisfied: numpy in c:\\users\\kouic\\miniconda3\\envs\\avilen\\lib\\site-packages (from vpython) (1.26.2)\n",
      "Requirement already satisfied: ipykernel in c:\\users\\kouic\\miniconda3\\envs\\avilen\\lib\\site-packages (from vpython) (6.30.1)\n",
      "Requirement already satisfied: autobahn<27,>=22.6.1 in c:\\users\\kouic\\miniconda3\\envs\\avilen\\lib\\site-packages (from vpython) (24.4.2)\n",
      "Requirement already satisfied: txaio>=21.2.1 in c:\\users\\kouic\\miniconda3\\envs\\avilen\\lib\\site-packages (from autobahn<27,>=22.6.1->vpython) (25.9.2)\n",
      "Requirement already satisfied: cryptography>=3.4.6 in c:\\users\\kouic\\miniconda3\\envs\\avilen\\lib\\site-packages (from autobahn<27,>=22.6.1->vpython) (46.0.3)\n",
      "Requirement already satisfied: hyperlink>=21.0.0 in c:\\users\\kouic\\miniconda3\\envs\\avilen\\lib\\site-packages (from autobahn<27,>=22.6.1->vpython) (21.0.0)\n",
      "Requirement already satisfied: setuptools in c:\\users\\kouic\\miniconda3\\envs\\avilen\\lib\\site-packages (from autobahn<27,>=22.6.1->vpython) (80.9.0)\n",
      "Requirement already satisfied: cffi>=2.0.0 in c:\\users\\kouic\\miniconda3\\envs\\avilen\\lib\\site-packages (from cryptography>=3.4.6->autobahn<27,>=22.6.1->vpython) (2.0.0)\n",
      "Requirement already satisfied: typing-extensions>=4.13.2 in c:\\users\\kouic\\miniconda3\\envs\\avilen\\lib\\site-packages (from cryptography>=3.4.6->autobahn<27,>=22.6.1->vpython) (4.15.0)\n",
      "Requirement already satisfied: pycparser in c:\\users\\kouic\\miniconda3\\envs\\avilen\\lib\\site-packages (from cffi>=2.0.0->cryptography>=3.4.6->autobahn<27,>=22.6.1->vpython) (2.22)\n",
      "Requirement already satisfied: idna>=2.5 in c:\\users\\kouic\\miniconda3\\envs\\avilen\\lib\\site-packages (from hyperlink>=21.0.0->autobahn<27,>=22.6.1->vpython) (3.10)\n",
      "Requirement already satisfied: comm>=0.1.1 in c:\\users\\kouic\\miniconda3\\envs\\avilen\\lib\\site-packages (from ipykernel->vpython) (0.2.3)\n",
      "Requirement already satisfied: debugpy>=1.6.5 in c:\\users\\kouic\\miniconda3\\envs\\avilen\\lib\\site-packages (from ipykernel->vpython) (1.8.17)\n",
      "Requirement already satisfied: ipython>=7.23.1 in c:\\users\\kouic\\miniconda3\\envs\\avilen\\lib\\site-packages (from ipykernel->vpython) (8.37.0)\n",
      "Requirement already satisfied: jupyter-client>=8.0.0 in c:\\users\\kouic\\miniconda3\\envs\\avilen\\lib\\site-packages (from ipykernel->vpython) (8.6.3)\n",
      "Requirement already satisfied: jupyter-core!=5.0.*,>=4.12 in c:\\users\\kouic\\miniconda3\\envs\\avilen\\lib\\site-packages (from ipykernel->vpython) (5.8.1)\n",
      "Requirement already satisfied: matplotlib-inline>=0.1 in c:\\users\\kouic\\miniconda3\\envs\\avilen\\lib\\site-packages (from ipykernel->vpython) (0.1.7)\n",
      "Requirement already satisfied: nest-asyncio>=1.4 in c:\\users\\kouic\\miniconda3\\envs\\avilen\\lib\\site-packages (from ipykernel->vpython) (1.6.0)\n",
      "Requirement already satisfied: packaging>=22 in c:\\users\\kouic\\miniconda3\\envs\\avilen\\lib\\site-packages (from ipykernel->vpython) (25.0)\n",
      "Requirement already satisfied: psutil>=5.7 in c:\\users\\kouic\\miniconda3\\envs\\avilen\\lib\\site-packages (from ipykernel->vpython) (7.1.0)\n",
      "Requirement already satisfied: pyzmq>=25 in c:\\users\\kouic\\miniconda3\\envs\\avilen\\lib\\site-packages (from ipykernel->vpython) (27.1.0)\n",
      "Requirement already satisfied: tornado>=6.2 in c:\\users\\kouic\\miniconda3\\envs\\avilen\\lib\\site-packages (from ipykernel->vpython) (6.5.2)\n",
      "Requirement already satisfied: traitlets>=5.4.0 in c:\\users\\kouic\\miniconda3\\envs\\avilen\\lib\\site-packages (from ipykernel->vpython) (5.14.3)\n",
      "Requirement already satisfied: colorama in c:\\users\\kouic\\miniconda3\\envs\\avilen\\lib\\site-packages (from ipython>=7.23.1->ipykernel->vpython) (0.4.6)\n",
      "Requirement already satisfied: decorator in c:\\users\\kouic\\miniconda3\\envs\\avilen\\lib\\site-packages (from ipython>=7.23.1->ipykernel->vpython) (5.2.1)\n",
      "Requirement already satisfied: exceptiongroup in c:\\users\\kouic\\miniconda3\\envs\\avilen\\lib\\site-packages (from ipython>=7.23.1->ipykernel->vpython) (1.3.0)\n",
      "Requirement already satisfied: jedi>=0.16 in c:\\users\\kouic\\miniconda3\\envs\\avilen\\lib\\site-packages (from ipython>=7.23.1->ipykernel->vpython) (0.19.2)\n",
      "Requirement already satisfied: prompt_toolkit<3.1.0,>=3.0.41 in c:\\users\\kouic\\miniconda3\\envs\\avilen\\lib\\site-packages (from ipython>=7.23.1->ipykernel->vpython) (3.0.52)\n",
      "Requirement already satisfied: pygments>=2.4.0 in c:\\users\\kouic\\miniconda3\\envs\\avilen\\lib\\site-packages (from ipython>=7.23.1->ipykernel->vpython) (2.19.2)\n",
      "Requirement already satisfied: stack_data in c:\\users\\kouic\\miniconda3\\envs\\avilen\\lib\\site-packages (from ipython>=7.23.1->ipykernel->vpython) (0.6.3)\n",
      "Requirement already satisfied: wcwidth in c:\\users\\kouic\\miniconda3\\envs\\avilen\\lib\\site-packages (from prompt_toolkit<3.1.0,>=3.0.41->ipython>=7.23.1->ipykernel->vpython) (0.2.14)\n",
      "Requirement already satisfied: parso<0.9.0,>=0.8.4 in c:\\users\\kouic\\miniconda3\\envs\\avilen\\lib\\site-packages (from jedi>=0.16->ipython>=7.23.1->ipykernel->vpython) (0.8.5)\n",
      "Requirement already satisfied: python-dateutil>=2.8.2 in c:\\users\\kouic\\miniconda3\\envs\\avilen\\lib\\site-packages (from jupyter-client>=8.0.0->ipykernel->vpython) (2.9.0.post0)\n",
      "Requirement already satisfied: platformdirs>=2.5 in c:\\users\\kouic\\miniconda3\\envs\\avilen\\lib\\site-packages (from jupyter-core!=5.0.*,>=4.12->ipykernel->vpython) (4.4.0)\n",
      "Requirement already satisfied: pywin32>=300 in c:\\users\\kouic\\miniconda3\\envs\\avilen\\lib\\site-packages (from jupyter-core!=5.0.*,>=4.12->ipykernel->vpython) (311)\n",
      "Requirement already satisfied: six>=1.5 in c:\\users\\kouic\\miniconda3\\envs\\avilen\\lib\\site-packages (from python-dateutil>=2.8.2->jupyter-client>=8.0.0->ipykernel->vpython) (1.17.0)\n",
      "Requirement already satisfied: notebook in c:\\users\\kouic\\miniconda3\\envs\\avilen\\lib\\site-packages (from jupyter->vpython) (7.4.7)\n",
      "Requirement already satisfied: jupyter-console in c:\\users\\kouic\\miniconda3\\envs\\avilen\\lib\\site-packages (from jupyter->vpython) (6.6.3)\n",
      "Requirement already satisfied: nbconvert in c:\\users\\kouic\\miniconda3\\envs\\avilen\\lib\\site-packages (from jupyter->vpython) (7.16.6)\n",
      "Requirement already satisfied: ipywidgets in c:\\users\\kouic\\miniconda3\\envs\\avilen\\lib\\site-packages (from jupyter->vpython) (8.1.7)\n",
      "Requirement already satisfied: jupyterlab in c:\\users\\kouic\\miniconda3\\envs\\avilen\\lib\\site-packages (from jupyter->vpython) (4.4.9)\n",
      "Requirement already satisfied: widgetsnbextension~=4.0.14 in c:\\users\\kouic\\miniconda3\\envs\\avilen\\lib\\site-packages (from ipywidgets->jupyter->vpython) (4.0.14)\n",
      "Requirement already satisfied: jupyterlab_widgets~=3.0.15 in c:\\users\\kouic\\miniconda3\\envs\\avilen\\lib\\site-packages (from ipywidgets->jupyter->vpython) (3.0.15)\n",
      "Requirement already satisfied: aiohttp in c:\\users\\kouic\\miniconda3\\envs\\avilen\\lib\\site-packages (from jupyter-server-proxy->vpython) (3.13.1)\n",
      "Requirement already satisfied: jupyter-server>=1.24.0 in c:\\users\\kouic\\miniconda3\\envs\\avilen\\lib\\site-packages (from jupyter-server-proxy->vpython) (2.17.0)\n",
      "Requirement already satisfied: simpervisor>=1.0.0 in c:\\users\\kouic\\miniconda3\\envs\\avilen\\lib\\site-packages (from jupyter-server-proxy->vpython) (1.0.0)\n",
      "Requirement already satisfied: anyio>=3.1.0 in c:\\users\\kouic\\miniconda3\\envs\\avilen\\lib\\site-packages (from jupyter-server>=1.24.0->jupyter-server-proxy->vpython) (4.11.0)\n",
      "Requirement already satisfied: argon2-cffi>=21.1 in c:\\users\\kouic\\miniconda3\\envs\\avilen\\lib\\site-packages (from jupyter-server>=1.24.0->jupyter-server-proxy->vpython) (25.1.0)\n",
      "Requirement already satisfied: jinja2>=3.0.3 in c:\\users\\kouic\\miniconda3\\envs\\avilen\\lib\\site-packages (from jupyter-server>=1.24.0->jupyter-server-proxy->vpython) (3.1.6)\n",
      "Requirement already satisfied: jupyter-events>=0.11.0 in c:\\users\\kouic\\miniconda3\\envs\\avilen\\lib\\site-packages (from jupyter-server>=1.24.0->jupyter-server-proxy->vpython) (0.12.0)\n",
      "Requirement already satisfied: jupyter-server-terminals>=0.4.4 in c:\\users\\kouic\\miniconda3\\envs\\avilen\\lib\\site-packages (from jupyter-server>=1.24.0->jupyter-server-proxy->vpython) (0.5.3)\n",
      "Requirement already satisfied: nbformat>=5.3.0 in c:\\users\\kouic\\miniconda3\\envs\\avilen\\lib\\site-packages (from jupyter-server>=1.24.0->jupyter-server-proxy->vpython) (5.10.4)\n",
      "Requirement already satisfied: overrides>=5.0 in c:\\users\\kouic\\miniconda3\\envs\\avilen\\lib\\site-packages (from jupyter-server>=1.24.0->jupyter-server-proxy->vpython) (7.7.0)\n",
      "Requirement already satisfied: prometheus-client>=0.9 in c:\\users\\kouic\\miniconda3\\envs\\avilen\\lib\\site-packages (from jupyter-server>=1.24.0->jupyter-server-proxy->vpython) (0.23.1)\n",
      "Requirement already satisfied: pywinpty>=2.0.1 in c:\\users\\kouic\\miniconda3\\envs\\avilen\\lib\\site-packages (from jupyter-server>=1.24.0->jupyter-server-proxy->vpython) (2.0.15)\n",
      "Requirement already satisfied: send2trash>=1.8.2 in c:\\users\\kouic\\miniconda3\\envs\\avilen\\lib\\site-packages (from jupyter-server>=1.24.0->jupyter-server-proxy->vpython) (1.8.3)\n",
      "Requirement already satisfied: terminado>=0.8.3 in c:\\users\\kouic\\miniconda3\\envs\\avilen\\lib\\site-packages (from jupyter-server>=1.24.0->jupyter-server-proxy->vpython) (0.18.1)\n",
      "Requirement already satisfied: websocket-client>=1.7 in c:\\users\\kouic\\miniconda3\\envs\\avilen\\lib\\site-packages (from jupyter-server>=1.24.0->jupyter-server-proxy->vpython) (1.8.0)\n",
      "Requirement already satisfied: sniffio>=1.1 in c:\\users\\kouic\\miniconda3\\envs\\avilen\\lib\\site-packages (from anyio>=3.1.0->jupyter-server>=1.24.0->jupyter-server-proxy->vpython) (1.3.1)\n",
      "Requirement already satisfied: argon2-cffi-bindings in c:\\users\\kouic\\miniconda3\\envs\\avilen\\lib\\site-packages (from argon2-cffi>=21.1->jupyter-server>=1.24.0->jupyter-server-proxy->vpython) (25.1.0)\n",
      "Requirement already satisfied: MarkupSafe>=2.0 in c:\\users\\kouic\\miniconda3\\envs\\avilen\\lib\\site-packages (from jinja2>=3.0.3->jupyter-server>=1.24.0->jupyter-server-proxy->vpython) (3.0.3)\n",
      "Requirement already satisfied: jsonschema>=4.18.0 in c:\\users\\kouic\\miniconda3\\envs\\avilen\\lib\\site-packages (from jsonschema[format-nongpl]>=4.18.0->jupyter-events>=0.11.0->jupyter-server>=1.24.0->jupyter-server-proxy->vpython) (4.25.1)\n",
      "Requirement already satisfied: python-json-logger>=2.0.4 in c:\\users\\kouic\\miniconda3\\envs\\avilen\\lib\\site-packages (from jupyter-events>=0.11.0->jupyter-server>=1.24.0->jupyter-server-proxy->vpython) (2.0.7)\n",
      "Requirement already satisfied: pyyaml>=5.3 in c:\\users\\kouic\\miniconda3\\envs\\avilen\\lib\\site-packages (from jupyter-events>=0.11.0->jupyter-server>=1.24.0->jupyter-server-proxy->vpython) (6.0.3)\n",
      "Requirement already satisfied: referencing in c:\\users\\kouic\\miniconda3\\envs\\avilen\\lib\\site-packages (from jupyter-events>=0.11.0->jupyter-server>=1.24.0->jupyter-server-proxy->vpython) (0.36.2)\n",
      "Requirement already satisfied: rfc3339-validator in c:\\users\\kouic\\miniconda3\\envs\\avilen\\lib\\site-packages (from jupyter-events>=0.11.0->jupyter-server>=1.24.0->jupyter-server-proxy->vpython) (0.1.4)\n",
      "Requirement already satisfied: rfc3986-validator>=0.1.1 in c:\\users\\kouic\\miniconda3\\envs\\avilen\\lib\\site-packages (from jupyter-events>=0.11.0->jupyter-server>=1.24.0->jupyter-server-proxy->vpython) (0.1.1)\n",
      "Requirement already satisfied: attrs>=22.2.0 in c:\\users\\kouic\\miniconda3\\envs\\avilen\\lib\\site-packages (from jsonschema>=4.18.0->jsonschema[format-nongpl]>=4.18.0->jupyter-events>=0.11.0->jupyter-server>=1.24.0->jupyter-server-proxy->vpython) (25.3.0)\n",
      "Requirement already satisfied: jsonschema-specifications>=2023.03.6 in c:\\users\\kouic\\miniconda3\\envs\\avilen\\lib\\site-packages (from jsonschema>=4.18.0->jsonschema[format-nongpl]>=4.18.0->jupyter-events>=0.11.0->jupyter-server>=1.24.0->jupyter-server-proxy->vpython) (2025.9.1)\n",
      "Requirement already satisfied: rpds-py>=0.7.1 in c:\\users\\kouic\\miniconda3\\envs\\avilen\\lib\\site-packages (from jsonschema>=4.18.0->jsonschema[format-nongpl]>=4.18.0->jupyter-events>=0.11.0->jupyter-server>=1.24.0->jupyter-server-proxy->vpython) (0.27.1)\n",
      "Requirement already satisfied: fqdn in c:\\users\\kouic\\miniconda3\\envs\\avilen\\lib\\site-packages (from jsonschema[format-nongpl]>=4.18.0->jupyter-events>=0.11.0->jupyter-server>=1.24.0->jupyter-server-proxy->vpython) (1.5.1)\n",
      "Requirement already satisfied: isoduration in c:\\users\\kouic\\miniconda3\\envs\\avilen\\lib\\site-packages (from jsonschema[format-nongpl]>=4.18.0->jupyter-events>=0.11.0->jupyter-server>=1.24.0->jupyter-server-proxy->vpython) (20.11.0)\n",
      "Requirement already satisfied: jsonpointer>1.13 in c:\\users\\kouic\\miniconda3\\envs\\avilen\\lib\\site-packages (from jsonschema[format-nongpl]>=4.18.0->jupyter-events>=0.11.0->jupyter-server>=1.24.0->jupyter-server-proxy->vpython) (3.0.0)\n",
      "Requirement already satisfied: rfc3987-syntax>=1.1.0 in c:\\users\\kouic\\miniconda3\\envs\\avilen\\lib\\site-packages (from jsonschema[format-nongpl]>=4.18.0->jupyter-events>=0.11.0->jupyter-server>=1.24.0->jupyter-server-proxy->vpython) (1.1.0)\n",
      "Requirement already satisfied: uri-template in c:\\users\\kouic\\miniconda3\\envs\\avilen\\lib\\site-packages (from jsonschema[format-nongpl]>=4.18.0->jupyter-events>=0.11.0->jupyter-server>=1.24.0->jupyter-server-proxy->vpython) (1.3.0)\n",
      "Requirement already satisfied: webcolors>=24.6.0 in c:\\users\\kouic\\miniconda3\\envs\\avilen\\lib\\site-packages (from jsonschema[format-nongpl]>=4.18.0->jupyter-events>=0.11.0->jupyter-server>=1.24.0->jupyter-server-proxy->vpython) (24.11.1)\n",
      "Requirement already satisfied: beautifulsoup4 in c:\\users\\kouic\\miniconda3\\envs\\avilen\\lib\\site-packages (from nbconvert->jupyter->vpython) (4.14.2)\n",
      "Requirement already satisfied: bleach!=5.0.0 in c:\\users\\kouic\\miniconda3\\envs\\avilen\\lib\\site-packages (from bleach[css]!=5.0.0->nbconvert->jupyter->vpython) (6.2.0)\n",
      "Requirement already satisfied: defusedxml in c:\\users\\kouic\\miniconda3\\envs\\avilen\\lib\\site-packages (from nbconvert->jupyter->vpython) (0.7.1)\n",
      "Requirement already satisfied: jupyterlab-pygments in c:\\users\\kouic\\miniconda3\\envs\\avilen\\lib\\site-packages (from nbconvert->jupyter->vpython) (0.3.0)\n",
      "Requirement already satisfied: mistune<4,>=2.0.3 in c:\\users\\kouic\\miniconda3\\envs\\avilen\\lib\\site-packages (from nbconvert->jupyter->vpython) (3.1.4)\n",
      "Requirement already satisfied: nbclient>=0.5.0 in c:\\users\\kouic\\miniconda3\\envs\\avilen\\lib\\site-packages (from nbconvert->jupyter->vpython) (0.10.2)\n",
      "Requirement already satisfied: pandocfilters>=1.4.1 in c:\\users\\kouic\\miniconda3\\envs\\avilen\\lib\\site-packages (from nbconvert->jupyter->vpython) (1.5.0)\n",
      "Requirement already satisfied: webencodings in c:\\users\\kouic\\miniconda3\\envs\\avilen\\lib\\site-packages (from bleach!=5.0.0->bleach[css]!=5.0.0->nbconvert->jupyter->vpython) (0.5.1)\n",
      "Requirement already satisfied: tinycss2<1.5,>=1.1.0 in c:\\users\\kouic\\miniconda3\\envs\\avilen\\lib\\site-packages (from bleach[css]!=5.0.0->nbconvert->jupyter->vpython) (1.4.0)\n",
      "Requirement already satisfied: fastjsonschema>=2.15 in c:\\users\\kouic\\miniconda3\\envs\\avilen\\lib\\site-packages (from nbformat>=5.3.0->jupyter-server>=1.24.0->jupyter-server-proxy->vpython) (2.21.2)\n",
      "Requirement already satisfied: lark>=1.2.2 in c:\\users\\kouic\\miniconda3\\envs\\avilen\\lib\\site-packages (from rfc3987-syntax>=1.1.0->jsonschema[format-nongpl]>=4.18.0->jupyter-events>=0.11.0->jupyter-server>=1.24.0->jupyter-server-proxy->vpython) (1.3.0)\n",
      "Requirement already satisfied: aiohappyeyeballs>=2.5.0 in c:\\users\\kouic\\miniconda3\\envs\\avilen\\lib\\site-packages (from aiohttp->jupyter-server-proxy->vpython) (2.6.1)\n",
      "Requirement already satisfied: aiosignal>=1.4.0 in c:\\users\\kouic\\miniconda3\\envs\\avilen\\lib\\site-packages (from aiohttp->jupyter-server-proxy->vpython) (1.4.0)\n",
      "Requirement already satisfied: async-timeout<6.0,>=4.0 in c:\\users\\kouic\\miniconda3\\envs\\avilen\\lib\\site-packages (from aiohttp->jupyter-server-proxy->vpython) (5.0.1)\n",
      "Requirement already satisfied: frozenlist>=1.1.1 in c:\\users\\kouic\\miniconda3\\envs\\avilen\\lib\\site-packages (from aiohttp->jupyter-server-proxy->vpython) (1.8.0)\n",
      "Requirement already satisfied: multidict<7.0,>=4.5 in c:\\users\\kouic\\miniconda3\\envs\\avilen\\lib\\site-packages (from aiohttp->jupyter-server-proxy->vpython) (6.7.0)\n",
      "Requirement already satisfied: propcache>=0.2.0 in c:\\users\\kouic\\miniconda3\\envs\\avilen\\lib\\site-packages (from aiohttp->jupyter-server-proxy->vpython) (0.4.1)\n",
      "Requirement already satisfied: yarl<2.0,>=1.17.0 in c:\\users\\kouic\\miniconda3\\envs\\avilen\\lib\\site-packages (from aiohttp->jupyter-server-proxy->vpython) (1.22.0)\n",
      "Requirement already satisfied: soupsieve>1.2 in c:\\users\\kouic\\miniconda3\\envs\\avilen\\lib\\site-packages (from beautifulsoup4->nbconvert->jupyter->vpython) (2.8)\n",
      "Requirement already satisfied: arrow>=0.15.0 in c:\\users\\kouic\\miniconda3\\envs\\avilen\\lib\\site-packages (from isoduration->jsonschema[format-nongpl]>=4.18.0->jupyter-events>=0.11.0->jupyter-server>=1.24.0->jupyter-server-proxy->vpython) (1.3.0)\n",
      "Requirement already satisfied: types-python-dateutil>=2.8.10 in c:\\users\\kouic\\miniconda3\\envs\\avilen\\lib\\site-packages (from arrow>=0.15.0->isoduration->jsonschema[format-nongpl]>=4.18.0->jupyter-events>=0.11.0->jupyter-server>=1.24.0->jupyter-server-proxy->vpython) (2.9.0.20250822)\n",
      "Requirement already satisfied: async-lru>=1.0.0 in c:\\users\\kouic\\miniconda3\\envs\\avilen\\lib\\site-packages (from jupyterlab->jupyter->vpython) (2.0.5)\n",
      "Requirement already satisfied: httpx<1,>=0.25.0 in c:\\users\\kouic\\miniconda3\\envs\\avilen\\lib\\site-packages (from jupyterlab->jupyter->vpython) (0.28.1)\n",
      "Requirement already satisfied: jupyter-lsp>=2.0.0 in c:\\users\\kouic\\miniconda3\\envs\\avilen\\lib\\site-packages (from jupyterlab->jupyter->vpython) (2.3.0)\n",
      "Requirement already satisfied: jupyterlab-server<3,>=2.27.1 in c:\\users\\kouic\\miniconda3\\envs\\avilen\\lib\\site-packages (from jupyterlab->jupyter->vpython) (2.27.3)\n",
      "Requirement already satisfied: notebook-shim>=0.2 in c:\\users\\kouic\\miniconda3\\envs\\avilen\\lib\\site-packages (from jupyterlab->jupyter->vpython) (0.2.4)\n",
      "Requirement already satisfied: tomli>=1.2.2 in c:\\users\\kouic\\miniconda3\\envs\\avilen\\lib\\site-packages (from jupyterlab->jupyter->vpython) (2.2.1)\n",
      "Requirement already satisfied: certifi in c:\\users\\kouic\\miniconda3\\envs\\avilen\\lib\\site-packages (from httpx<1,>=0.25.0->jupyterlab->jupyter->vpython) (2025.8.3)\n",
      "Requirement already satisfied: httpcore==1.* in c:\\users\\kouic\\miniconda3\\envs\\avilen\\lib\\site-packages (from httpx<1,>=0.25.0->jupyterlab->jupyter->vpython) (1.0.9)\n",
      "Requirement already satisfied: h11>=0.16 in c:\\users\\kouic\\miniconda3\\envs\\avilen\\lib\\site-packages (from httpcore==1.*->httpx<1,>=0.25.0->jupyterlab->jupyter->vpython) (0.16.0)\n",
      "Requirement already satisfied: babel>=2.10 in c:\\users\\kouic\\miniconda3\\envs\\avilen\\lib\\site-packages (from jupyterlab-server<3,>=2.27.1->jupyterlab->jupyter->vpython) (2.17.0)\n",
      "Requirement already satisfied: json5>=0.9.0 in c:\\users\\kouic\\miniconda3\\envs\\avilen\\lib\\site-packages (from jupyterlab-server<3,>=2.27.1->jupyterlab->jupyter->vpython) (0.12.1)\n",
      "Requirement already satisfied: requests>=2.31 in c:\\users\\kouic\\miniconda3\\envs\\avilen\\lib\\site-packages (from jupyterlab-server<3,>=2.27.1->jupyterlab->jupyter->vpython) (2.32.5)\n",
      "Requirement already satisfied: charset_normalizer<4,>=2 in c:\\users\\kouic\\miniconda3\\envs\\avilen\\lib\\site-packages (from requests>=2.31->jupyterlab-server<3,>=2.27.1->jupyterlab->jupyter->vpython) (3.4.3)\n",
      "Requirement already satisfied: urllib3<3,>=1.21.1 in c:\\users\\kouic\\miniconda3\\envs\\avilen\\lib\\site-packages (from requests>=2.31->jupyterlab-server<3,>=2.27.1->jupyterlab->jupyter->vpython) (2.5.0)\n",
      "Requirement already satisfied: executing>=1.2.0 in c:\\users\\kouic\\miniconda3\\envs\\avilen\\lib\\site-packages (from stack_data->ipython>=7.23.1->ipykernel->vpython) (2.2.1)\n",
      "Requirement already satisfied: asttokens>=2.1.0 in c:\\users\\kouic\\miniconda3\\envs\\avilen\\lib\\site-packages (from stack_data->ipython>=7.23.1->ipykernel->vpython) (3.0.0)\n",
      "Requirement already satisfied: pure_eval in c:\\users\\kouic\\miniconda3\\envs\\avilen\\lib\\site-packages (from stack_data->ipython>=7.23.1->ipykernel->vpython) (0.2.3)\n",
      "Note: you may need to restart the kernel to use updated packages.\n"
     ]
    }
   ],
   "source": [
    "%pip install vpython"
   ]
  },
  {
   "cell_type": "code",
   "execution_count": 6,
   "id": "c6e34242-d4c2-47a9-93b6-5b52bfd45e94",
   "metadata": {},
   "outputs": [
    {
     "name": "stdout",
     "output_type": "stream",
     "text": [
      "Requirement already satisfied: cvxopt in c:\\users\\kouic\\miniconda3\\envs\\avilen\\lib\\site-packages (1.3.2)\n",
      "Note: you may need to restart the kernel to use updated packages.\n"
     ]
    }
   ],
   "source": [
    "%pip install cvxopt"
   ]
  },
  {
   "cell_type": "code",
   "execution_count": 7,
   "id": "41091970-3b38-4607-aea8-dc9f6640e79e",
   "metadata": {},
   "outputs": [
    {
     "name": "stdout",
     "output_type": "stream",
     "text": [
      "Requirement already satisfied: PICOS in c:\\users\\kouic\\miniconda3\\envs\\avilen\\lib\\site-packages (2.6.2)\n",
      "Requirement already satisfied: cvxopt in c:\\users\\kouic\\miniconda3\\envs\\avilen\\lib\\site-packages (from PICOS) (1.3.2)\n",
      "Requirement already satisfied: numpy in c:\\users\\kouic\\miniconda3\\envs\\avilen\\lib\\site-packages (from PICOS) (1.26.2)\n",
      "Note: you may need to restart the kernel to use updated packages.\n"
     ]
    }
   ],
   "source": [
    "%pip install PICOS"
   ]
  },
  {
   "cell_type": "code",
   "execution_count": 8,
   "id": "12928ee4-9912-4e7b-925c-3d8eec78915a",
   "metadata": {},
   "outputs": [
    {
     "name": "stdout",
     "output_type": "stream",
     "text": [
      "Requirement already satisfied: pyomo in c:\\users\\kouic\\miniconda3\\envs\\avilen\\lib\\site-packages (6.9.5)Note: you may need to restart the kernel to use updated packages.\n",
      "\n",
      "Requirement already satisfied: ply in c:\\users\\kouic\\miniconda3\\envs\\avilen\\lib\\site-packages (from pyomo) (3.11)\n"
     ]
    }
   ],
   "source": [
    "%pip install pyomo"
   ]
  },
  {
   "cell_type": "code",
   "execution_count": 1,
   "id": "ae36e69f-46e3-405f-8ec4-867f4ee97c38",
   "metadata": {},
   "outputs": [],
   "source": [
    "from pulp import *"
   ]
  },
  {
   "cell_type": "code",
   "execution_count": 2,
   "id": "66c3b8bc-7f35-4684-837a-425eb128f5d8",
   "metadata": {},
   "outputs": [],
   "source": [
    "prob = LpProblem(name='LP-sample' , sense=LpMaximize)"
   ]
  },
  {
   "cell_type": "code",
   "execution_count": 3,
   "id": "49271467-e15c-4f7b-965b-1f50d32cee65",
   "metadata": {},
   "outputs": [],
   "source": [
    "x1 = LpVariable('x1',lowBound=0.0)"
   ]
  },
  {
   "cell_type": "code",
   "execution_count": 4,
   "id": "3e82fdbb-f7ca-47d2-ad81-f3667ea83144",
   "metadata": {},
   "outputs": [],
   "source": [
    "x2 = LpVariable('x2',lowBound=0.0)\n"
   ]
  },
  {
   "cell_type": "code",
   "execution_count": 6,
   "id": "5ddefee7-47a9-438e-92eb-d4719a614508",
   "metadata": {},
   "outputs": [],
   "source": [
    "prob +=2*x1 + 3*x2  "
   ]
  },
  {
   "cell_type": "code",
   "execution_count": 7,
   "id": "60cdd20a-d7ef-4bdc-a69f-9045606354a6",
   "metadata": {},
   "outputs": [
    {
     "name": "stdout",
     "output_type": "stream",
     "text": [
      "LP-sample:\n",
      "MAXIMIZE\n",
      "2*x1 + 3*x2 + 0\n",
      "SUBJECT TO\n",
      "ineq1: x1 + 3 x2 <= 9\n",
      "\n",
      "ineq2: x1 + x2 <= 4\n",
      "\n",
      "ineq3: x1 + x2 <= 6\n",
      "\n",
      "VARIABLES\n",
      "x1 Continuous\n",
      "x2 Continuous\n",
      "\n",
      "Optimal\n",
      "optimal value = 10.5\n",
      "x1 = 1.5\n",
      "x2 = 2.5\n"
     ]
    }
   ],
   "source": [
    "prob += x1 + 3*x2 <=9 , 'ineq1'\n",
    "prob += x1 + x2 <=4 , 'ineq2'\n",
    "prob += x1 + x2 <=6 , 'ineq3'\n",
    "print(prob)\n",
    "prob.solve()\n",
    "\n",
    "print(LpStatus[prob.status])\n",
    "print('optimal value =', value(prob.objective))\n",
    "for v in prob.variables():\n",
    "    print(v.name , '=',value(v))\n",
    "    "
   ]
  }
 ],
 "metadata": {
  "kernelspec": {
   "display_name": "avilen",
   "language": "python",
   "name": "avilen"
  },
  "language_info": {
   "codemirror_mode": {
    "name": "ipython",
    "version": 3
   },
   "file_extension": ".py",
   "mimetype": "text/x-python",
   "name": "python",
   "nbconvert_exporter": "python",
   "pygments_lexer": "ipython3",
   "version": "3.10.14"
  }
 },
 "nbformat": 4,
 "nbformat_minor": 5
}
